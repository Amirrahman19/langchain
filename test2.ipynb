{
 "cells": [
  {
   "cell_type": "code",
   "execution_count": 1,
   "id": "197f2903-ed01-447d-9dbe-2ee7844632dd",
   "metadata": {},
   "outputs": [],
   "source": [
    "# from sentence_transformers import SentenceTransformer\n",
    "# sentences = [\"This is an example sentence\", \"Each sentence is converted\"]\n",
    "\n",
    "# model = SentenceTransformer('sentence-transformers/msmarco-distilbert-multilingual-en-de-v2-tmp-lng-aligned')\n",
    "# embeddings = model.encode(sentences)\n",
    "# print(embeddings)"
   ]
  },
  {
   "cell_type": "code",
   "execution_count": 2,
   "id": "0b708e56-b89e-4ae8-a96f-67c46ebd858a",
   "metadata": {},
   "outputs": [
    {
     "data": {
      "text/html": [
       "<div>\n",
       "<style scoped>\n",
       "    .dataframe tbody tr th:only-of-type {\n",
       "        vertical-align: middle;\n",
       "    }\n",
       "\n",
       "    .dataframe tbody tr th {\n",
       "        vertical-align: top;\n",
       "    }\n",
       "\n",
       "    .dataframe thead th {\n",
       "        text-align: right;\n",
       "    }\n",
       "</style>\n",
       "<table border=\"1\" class=\"dataframe\">\n",
       "  <thead>\n",
       "    <tr style=\"text-align: right;\">\n",
       "      <th></th>\n",
       "      <th>prompt</th>\n",
       "      <th>response</th>\n",
       "      <th>Unnamed: 2</th>\n",
       "    </tr>\n",
       "  </thead>\n",
       "  <tbody>\n",
       "    <tr>\n",
       "      <th>0</th>\n",
       "      <td>What is cord blood?</td>\n",
       "      <td>Cord blood is blood that remains in the umbili...</td>\n",
       "      <td>NaN</td>\n",
       "    </tr>\n",
       "    <tr>\n",
       "      <th>1</th>\n",
       "      <td>What are cord blood stem cells?</td>\n",
       "      <td>Cord blood stem cells are also known as Haemat...</td>\n",
       "      <td>NaN</td>\n",
       "    </tr>\n",
       "    <tr>\n",
       "      <th>2</th>\n",
       "      <td>Why should I save my babys cord blood stem cells?</td>\n",
       "      <td>There are several advantages of storing your b...</td>\n",
       "      <td>NaN</td>\n",
       "    </tr>\n",
       "    <tr>\n",
       "      <th>3</th>\n",
       "      <td>What can cord blood stem cells do?</td>\n",
       "      <td>Cord blood stem cells can:\\r\\n\\r\\nReplace and ...</td>\n",
       "      <td>NaN</td>\n",
       "    </tr>\n",
       "    <tr>\n",
       "      <th>4</th>\n",
       "      <td>How does a cord blood stem cell transplant work?</td>\n",
       "      <td>The purpose of a stem cell treatment is to rec...</td>\n",
       "      <td>NaN</td>\n",
       "    </tr>\n",
       "    <tr>\n",
       "      <th>...</th>\n",
       "      <td>...</td>\n",
       "      <td>...</td>\n",
       "      <td>...</td>\n",
       "    </tr>\n",
       "    <tr>\n",
       "      <th>58</th>\n",
       "      <td>When will the new GST change from 7% to 8% tak...</td>\n",
       "      <td>The new GST change from 7% to 8% will take eff...</td>\n",
       "      <td>NaN</td>\n",
       "    </tr>\n",
       "    <tr>\n",
       "      <th>59</th>\n",
       "      <td>How will the GST change affect my payments to ...</td>\n",
       "      <td>For Existing Clients\\r\\nThe revision in GST ra...</td>\n",
       "      <td>NaN</td>\n",
       "    </tr>\n",
       "    <tr>\n",
       "      <th>60</th>\n",
       "      <td>With the absorption of the 1% GST increase, wh...</td>\n",
       "      <td>Any enrolment on or before 31 December 2022 wi...</td>\n",
       "      <td>NaN</td>\n",
       "    </tr>\n",
       "    <tr>\n",
       "      <th>61</th>\n",
       "      <td>What should I do if I am currently on an annua...</td>\n",
       "      <td>You can consider upgrading your current annual...</td>\n",
       "      <td>NaN</td>\n",
       "    </tr>\n",
       "    <tr>\n",
       "      <th>62</th>\n",
       "      <td>If I have opted for the 60-month plan, how wou...</td>\n",
       "      <td>For enrolment and invoices billed in Year 2022...</td>\n",
       "      <td>NaN</td>\n",
       "    </tr>\n",
       "  </tbody>\n",
       "</table>\n",
       "<p>63 rows × 3 columns</p>\n",
       "</div>"
      ],
      "text/plain": [
       "                                               prompt  \\\n",
       "0                                 What is cord blood?   \n",
       "1                     What are cord blood stem cells?   \n",
       "2   Why should I save my babys cord blood stem cells?   \n",
       "3                  What can cord blood stem cells do?   \n",
       "4    How does a cord blood stem cell transplant work?   \n",
       "..                                                ...   \n",
       "58  When will the new GST change from 7% to 8% tak...   \n",
       "59  How will the GST change affect my payments to ...   \n",
       "60  With the absorption of the 1% GST increase, wh...   \n",
       "61  What should I do if I am currently on an annua...   \n",
       "62  If I have opted for the 60-month plan, how wou...   \n",
       "\n",
       "                                             response  Unnamed: 2  \n",
       "0   Cord blood is blood that remains in the umbili...         NaN  \n",
       "1   Cord blood stem cells are also known as Haemat...         NaN  \n",
       "2   There are several advantages of storing your b...         NaN  \n",
       "3   Cord blood stem cells can:\\r\\n\\r\\nReplace and ...         NaN  \n",
       "4   The purpose of a stem cell treatment is to rec...         NaN  \n",
       "..                                                ...         ...  \n",
       "58  The new GST change from 7% to 8% will take eff...         NaN  \n",
       "59  For Existing Clients\\r\\nThe revision in GST ra...         NaN  \n",
       "60  Any enrolment on or before 31 December 2022 wi...         NaN  \n",
       "61  You can consider upgrading your current annual...         NaN  \n",
       "62  For enrolment and invoices billed in Year 2022...         NaN  \n",
       "\n",
       "[63 rows x 3 columns]"
      ]
     },
     "execution_count": 2,
     "metadata": {},
     "output_type": "execute_result"
    }
   ],
   "source": [
    "import pandas as pd\n",
    "\n",
    "raw = pd.read_csv('cordlife_faqs1.csv')\n",
    "\n",
    "lookup = {}\n",
    "for a, b, *_ in raw.values:\n",
    "    lookup[a] = b\n",
    "\n",
    "raw"
   ]
  },
  {
   "cell_type": "code",
   "execution_count": 3,
   "id": "849624f5-20d9-4dce-beea-dc9aaba3c679",
   "metadata": {},
   "outputs": [
    {
     "name": "stderr",
     "output_type": "stream",
     "text": [
      "c:\\Users\\amir.rahman\\AppData\\Local\\anaconda3\\envs\\cordlife\\lib\\site-packages\\tqdm\\auto.py:21: TqdmWarning: IProgress not found. Please update jupyter and ipywidgets. See https://ipywidgets.readthedocs.io/en/stable/user_install.html\n",
      "  from .autonotebook import tqdm as notebook_tqdm\n"
     ]
    }
   ],
   "source": [
    "from sentence_transformers import SentenceTransformer, util\n",
    "\n",
    "sentences = list(raw['prompt'].values)\n",
    "model = SentenceTransformer('sentence-transformers/paraphrase-multilingual-mpnet-base-v2')\n",
    "sentences_embeddings = [model.encode(s, convert_to_tensor=True) for s in sentences]\n"
   ]
  },
  {
   "cell_type": "code",
   "execution_count": 4,
   "id": "b9940544-9eda-4717-857e-4fad27036b47",
   "metadata": {},
   "outputs": [
    {
     "data": {
      "text/plain": [
       "[('How would Preferential Plan benefit a Cordlife Parent like me?',\n",
       "  \"As a gesture of our appreciation to our Cordlife parents, we've introduced the Preferential Plan which allows Cordlife Preferential Plan lets you enjoy: Protection against increases in Annual Instalment Fees. Protection against hikes in Goods and Services Tax (GST). The convenience of a one-time payment for the remaining balance of annual instalment fee. Multiple payment modes such as Child Development Account (CDA), credit card interest-free instalment plans & etc.                                                           Contact us to find out more about the full benefits.\",\n",
       "  0.9067820310592651),\n",
       " ('What is Cordlife Preferential Plan?',\n",
       "  \"As a gesture of our appreciation to our Cordlife parents, we've introduced the Preferential Plan which allows parents to prepay the balance of their annual fees. Multiple payment modes are available; including the use of your child's Child Development Account (CDA) for this one-time payment. Contact us to find out more about the full benefits.\",\n",
       "  0.849469780921936),\n",
       " ('I am an existing Cordlife Parent. Will the benefits of Cordlife Care360� Safeguard programme be extended to my current account(s)?',\n",
       "  'At this moment, only clients who enrol with Cordlife from 7 September 2011 can enjoy the benefits of Cordlife Care 360� Safeguard programme.',\n",
       "  0.7154154777526855)]"
      ]
     },
     "execution_count": 4,
     "metadata": {},
     "output_type": "execute_result"
    }
   ],
   "source": [
    "def search(q, THRESHOLD=0.65):\n",
    "    q_embedding = model.encode(q, convert_to_tensor=True)\n",
    "    out = []\n",
    "    for sentence, sentence_embedding in zip(sentences, sentences_embeddings):\n",
    "        score = util.pytorch_cos_sim(q_embedding, sentence_embedding).item()\n",
    "        out.append((sentence, score))\n",
    "    out.sort(key=lambda x:-x[-1])\n",
    "    if out[0][1] < THRESHOLD:\n",
    "        return ['I don\\'t know']\n",
    "    top = out[:3]\n",
    "    return [(qns, lookup[qns], score) for qns,score in top]\n",
    "\n",
    "search('what is cordlife preferential plan and how would it benefit a parent like me')"
   ]
  },
  {
   "cell_type": "code",
   "execution_count": 5,
   "id": "e1e3490e-3a2c-4de3-a482-75806dd6faf7",
   "metadata": {},
   "outputs": [
    {
     "data": {
      "text/plain": [
       "[('What is a Child Development Account (CDA)?',\n",
       "  'The CDA* is a special savings account for children to help build up the savings that can be spent on approved uses.\\r\\n\\r\\nYour child�s CDA can be opened at any OCBC Bank, DBS Bank or UOB Bank branch.\\r\\n\\r\\nYou can deposit cash into the CDA any time until 31 December of the year your child turns 12 years of age.\\r\\n\\r\\nFor more information on CDA, please visit www.babybonus.msf.gov.sg or ask our friendly consultants today!\\r\\n\\r\\n*A child is eligible to apply for a CDA if he/she is:\\r\\n\\r\\nBorn on or after 17 August 2008\\r\\nA Singaporean citizen (or becomes a citizen before the age of 12)\\r\\nThe parents are legally married',\n",
       "  0.7746552228927612),\n",
       " ('How does the Child Development Account (CDA) work?',\n",
       "  'The CDA has two components: the CDA First Step Grant and the Government Dollar-for-Dollar Matching.\\r\\n\\r\\nUnder the CDA First Step Grant, parents will receive an initial amount of $3,000 (from the Government�s existing contribution caps) which will be deposited into your child�s account.',\n",
       "  0.763458788394928),\n",
       " ('What is CDA First Step Grant?',\n",
       "  'The CDA First Step Grant is new grant of $3,000 for eligible Singaporean children born from 24 March 2016. It is paid into the child�s CDA and forms part of the existing overall Government contribution cap.\\r\\n\\r\\nSingaporean children born from 24 March 2016 who are Singaporean Citizens (or become a citizen before turning 12 years old) and have lawfully married parents, are eligible for the CDA benefits.',\n",
       "  0.7080667614936829)]"
      ]
     },
     "execution_count": 5,
     "metadata": {},
     "output_type": "execute_result"
    }
   ],
   "source": [
    "search('what is CDA and how does it work')"
   ]
  },
  {
   "cell_type": "code",
   "execution_count": 6,
   "id": "02106272-5971-41a7-a8c8-9e1fd0caaed7",
   "metadata": {},
   "outputs": [
    {
     "data": {
      "text/plain": [
       "[\"I don't know\"]"
      ]
     },
     "execution_count": 6,
     "metadata": {},
     "output_type": "execute_result"
    }
   ],
   "source": [
    "search('does cordlife plan to launch anything in the near future')"
   ]
  },
  {
   "cell_type": "code",
   "execution_count": 7,
   "id": "b184f5a7-565d-42cb-8de6-725f02c896e4",
   "metadata": {},
   "outputs": [
    {
     "data": {
      "text/plain": [
       "[\"I don't know\"]"
      ]
     },
     "execution_count": 7,
     "metadata": {},
     "output_type": "execute_result"
    }
   ],
   "source": [
    "search('does cordlife have branches in europe or america')"
   ]
  },
  {
   "cell_type": "code",
   "execution_count": 8,
   "id": "0f390b82-7d2a-49e1-b61f-72e64307af22",
   "metadata": {},
   "outputs": [
    {
     "data": {
      "text/plain": [
       "[(\"How is my baby's cord blood stored?\",\n",
       "  \"Your baby's umbilical cord blood is stored within a US FDA-approved cryogenic storage pouch made of a special material that is specifically designed to withstand cryogenic temperatures. The pouch has two main segments (20% and 80%) that are attached integrally, and two test segments that are also integrally attached. The integral segments allow for additional testing on the associated unit to ensure that no samples are mixed up and that the cord blood remains viable. These tests are typically performed prior to a transplant. Having dual integrated segments addresses the possibility of future stem cell expansion. This means that when stem cell expansion is available commercially, you will be able to withdraw a portion of the stem cells for expansion while keeping the remainder in storage.\",\n",
       "  0.8244754672050476),\n",
       " ('What is cord blood?',\n",
       "  'Cord blood is blood that remains in the umbilical cord following the birth of a baby and after the umbilical cord is cut. During pregnancy, the umbilical cord functions as a lifeline between mother and child. After a baby�s delivery, the cord blood present in the umbilical cord could offer hope for the child as well as members of the family. Cord blood contains a rich source of lifesaving stem cells called Haematopoietic Stem Cells (HSCs).',\n",
       "  0.8074610233306885),\n",
       " ('What can cord blood stem cells do?',\n",
       "  'Cord blood stem cells can:\\r\\n\\r\\nReplace and regenerate damaged or diseased bone marrow.\\r\\nTreat blood related cancers, solid tumours and immunodeficiency disorders.\\r\\nCorrect genetic defects (sibling/allogeneic transplantation).\\r\\nPotentially be used for cellular therapy and regenerative medicine.erative medicine.',\n",
       "  0.710409939289093)]"
      ]
     },
     "execution_count": 8,
     "metadata": {},
     "output_type": "execute_result"
    }
   ],
   "source": [
    "search('how is cord blood stored?')"
   ]
  },
  {
   "cell_type": "code",
   "execution_count": null,
   "id": "fa7572a0-8625-4163-8d4c-92636068cd24",
   "metadata": {},
   "outputs": [],
   "source": []
  }
 ],
 "metadata": {
  "kernelspec": {
   "display_name": "Python 3 (ipykernel)",
   "language": "python",
   "name": "python3"
  },
  "language_info": {
   "codemirror_mode": {
    "name": "ipython",
    "version": 3
   },
   "file_extension": ".py",
   "mimetype": "text/x-python",
   "name": "python",
   "nbconvert_exporter": "python",
   "pygments_lexer": "ipython3",
   "version": "3.8.18"
  }
 },
 "nbformat": 4,
 "nbformat_minor": 5
}
