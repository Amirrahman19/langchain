{
 "cells": [
  {
   "cell_type": "code",
   "execution_count": 1,
   "metadata": {},
   "outputs": [
    {
     "data": {
      "text/html": [
       "<div>\n",
       "<style scoped>\n",
       "    .dataframe tbody tr th:only-of-type {\n",
       "        vertical-align: middle;\n",
       "    }\n",
       "\n",
       "    .dataframe tbody tr th {\n",
       "        vertical-align: top;\n",
       "    }\n",
       "\n",
       "    .dataframe thead th {\n",
       "        text-align: right;\n",
       "    }\n",
       "</style>\n",
       "<table border=\"1\" class=\"dataframe\">\n",
       "  <thead>\n",
       "    <tr style=\"text-align: right;\">\n",
       "      <th></th>\n",
       "      <th>prompt</th>\n",
       "      <th>response</th>\n",
       "      <th>Unnamed: 2</th>\n",
       "    </tr>\n",
       "  </thead>\n",
       "  <tbody>\n",
       "    <tr>\n",
       "      <th>0</th>\n",
       "      <td>What is cord blood?</td>\n",
       "      <td>Cord blood is blood that remains in the umbili...</td>\n",
       "      <td>NaN</td>\n",
       "    </tr>\n",
       "    <tr>\n",
       "      <th>1</th>\n",
       "      <td>What are cord blood stem cells?</td>\n",
       "      <td>Cord blood stem cells are also known as Haemat...</td>\n",
       "      <td>NaN</td>\n",
       "    </tr>\n",
       "    <tr>\n",
       "      <th>2</th>\n",
       "      <td>Why should I save my babys cord blood stem cells?</td>\n",
       "      <td>There are several advantages of storing your b...</td>\n",
       "      <td>NaN</td>\n",
       "    </tr>\n",
       "    <tr>\n",
       "      <th>3</th>\n",
       "      <td>What can cord blood stem cells do?</td>\n",
       "      <td>Cord blood stem cells can:\\n\\nReplace and rege...</td>\n",
       "      <td>NaN</td>\n",
       "    </tr>\n",
       "    <tr>\n",
       "      <th>4</th>\n",
       "      <td>How does a cord blood stem cell transplant work?</td>\n",
       "      <td>The purpose of a stem cell treatment is to rec...</td>\n",
       "      <td>NaN</td>\n",
       "    </tr>\n",
       "    <tr>\n",
       "      <th>...</th>\n",
       "      <td>...</td>\n",
       "      <td>...</td>\n",
       "      <td>...</td>\n",
       "    </tr>\n",
       "    <tr>\n",
       "      <th>64</th>\n",
       "      <td>??????????</td>\n",
       "      <td>�????????????????Haematopoietic Stem Cells?HSC...</td>\n",
       "      <td>NaN</td>\n",
       "    </tr>\n",
       "    <tr>\n",
       "      <th>65</th>\n",
       "      <td>????????????????</td>\n",
       "      <td>�????????????????????\\n\\n????????????????????\\...</td>\n",
       "      <td>NaN</td>\n",
       "    </tr>\n",
       "    <tr>\n",
       "      <th>66</th>\n",
       "      <td>Apakah darah tali pusat?</td>\n",
       "      <td>Darah tali pusat ialah darah yang kekal dalam ...</td>\n",
       "      <td>NaN</td>\n",
       "    </tr>\n",
       "    <tr>\n",
       "      <th>67</th>\n",
       "      <td>Apakah sel punca darah tali pusat?</td>\n",
       "      <td>\"Sel punca darah tali pusat juga dikenali seba...</td>\n",
       "      <td>NaN</td>\n",
       "    </tr>\n",
       "    <tr>\n",
       "      <th>68</th>\n",
       "      <td>Mengapa saya perlu menyimpan sel punca darah t...</td>\n",
       "      <td>\"Terdapat beberapa kelebihan menyimpan sel pun...</td>\n",
       "      <td>NaN</td>\n",
       "    </tr>\n",
       "  </tbody>\n",
       "</table>\n",
       "<p>69 rows × 3 columns</p>\n",
       "</div>"
      ],
      "text/plain": [
       "                                               prompt  \\\n",
       "0                                 What is cord blood?   \n",
       "1                     What are cord blood stem cells?   \n",
       "2   Why should I save my babys cord blood stem cells?   \n",
       "3                  What can cord blood stem cells do?   \n",
       "4    How does a cord blood stem cell transplant work?   \n",
       "..                                                ...   \n",
       "64                                         ??????????   \n",
       "65                                   ????????????????   \n",
       "66                          Apakah darah tali pusat?    \n",
       "67                 Apakah sel punca darah tali pusat?   \n",
       "68  Mengapa saya perlu menyimpan sel punca darah t...   \n",
       "\n",
       "                                             response  Unnamed: 2  \n",
       "0   Cord blood is blood that remains in the umbili...         NaN  \n",
       "1   Cord blood stem cells are also known as Haemat...         NaN  \n",
       "2   There are several advantages of storing your b...         NaN  \n",
       "3   Cord blood stem cells can:\\n\\nReplace and rege...         NaN  \n",
       "4   The purpose of a stem cell treatment is to rec...         NaN  \n",
       "..                                                ...         ...  \n",
       "64  �????????????????Haematopoietic Stem Cells?HSC...         NaN  \n",
       "65  �????????????????????\\n\\n????????????????????\\...         NaN  \n",
       "66  Darah tali pusat ialah darah yang kekal dalam ...         NaN  \n",
       "67  \"Sel punca darah tali pusat juga dikenali seba...         NaN  \n",
       "68  \"Terdapat beberapa kelebihan menyimpan sel pun...         NaN  \n",
       "\n",
       "[69 rows x 3 columns]"
      ]
     },
     "execution_count": 1,
     "metadata": {},
     "output_type": "execute_result"
    }
   ],
   "source": [
    "import pandas as pd\n",
    "\n",
    "raw = pd.read_csv('cordlife_faqs2.csv')\n",
    "\n",
    "lookup = {}\n",
    "for a, b, *_ in raw.values:\n",
    "    lookup[a] = b\n",
    "\n",
    "raw"
   ]
  },
  {
   "cell_type": "code",
   "execution_count": 2,
   "metadata": {},
   "outputs": [
    {
     "name": "stderr",
     "output_type": "stream",
     "text": [
      "c:\\Users\\amir.rahman\\AppData\\Local\\anaconda3\\envs\\cordlife\\lib\\site-packages\\tqdm\\auto.py:21: TqdmWarning: IProgress not found. Please update jupyter and ipywidgets. See https://ipywidgets.readthedocs.io/en/stable/user_install.html\n",
      "  from .autonotebook import tqdm as notebook_tqdm\n"
     ]
    }
   ],
   "source": [
    "# sentence-transformers/paraphrase-multilingual-MiniLM-L12-v2\n",
    "from sentence_transformers import SentenceTransformer, util\n",
    "\n",
    "sentences = list(raw['prompt'].values)\n",
    "model = SentenceTransformer('sentence-transformers/paraphrase-multilingual-MiniLM-L12-v2')\n",
    "sentences_embeddings = [model.encode(s, convert_to_tensor=True) for s in sentences]\n"
   ]
  },
  {
   "cell_type": "code",
   "execution_count": 3,
   "metadata": {},
   "outputs": [
    {
     "data": {
      "text/plain": [
       "[('How would Preferential Plan benefit a Cordlife Parent like me?',\n",
       "  \"As a gesture of our appreciation to our Cordlife parents, we've introduced the Preferential Plan which allows Cordlife Preferential Plan lets you enjoy: Protection against increases in Annual Instalment Fees. Protection against hikes in Goods and Services Tax (GST). The convenience of a one-time payment for the remaining balance of annual instalment fee. Multiple payment modes such as Child Development Account (CDA), credit card interest-free instalment plans & etc.                                                           Contact us to find out more about the full benefits.\",\n",
       "  0.9360084533691406),\n",
       " ('What is Cordlife Preferential Plan?',\n",
       "  \"As a gesture of our appreciation to our Cordlife parents, we've introduced the Preferential Plan which allows parents to prepay the balance of their annual fees. Multiple payment modes are available; including the use of your child's Child Development Account (CDA) for this one-time payment. Contact us to find out more about the full benefits.\",\n",
       "  0.7924670577049255),\n",
       " ('I am an existing Cordlife Parent. Will the benefits of Cordlife Care360� Safeguard programme be extended to my current account(s)?',\n",
       "  'At this moment, only clients who enrol with Cordlife from 7 September 2011 can enjoy the benefits of Cordlife Care 360� Safeguard programme.',\n",
       "  0.7035233378410339)]"
      ]
     },
     "execution_count": 3,
     "metadata": {},
     "output_type": "execute_result"
    }
   ],
   "source": [
    "def search(q, THRESHOLD=0.65):\n",
    "    q_embedding = model.encode(q, convert_to_tensor=True)\n",
    "    out = []\n",
    "    for sentence, sentence_embedding in zip(sentences, sentences_embeddings):\n",
    "        score = util.pytorch_cos_sim(q_embedding, sentence_embedding).item()\n",
    "        out.append((sentence, score))\n",
    "    out.sort(key=lambda x:-x[-1])\n",
    "    if out[0][1] < THRESHOLD:\n",
    "        return ['I don\\'t know']\n",
    "    top = out[:3]\n",
    "    return [(qns, lookup[qns], score) for qns,score in top]\n",
    "\n",
    "search('what is cordlife preferential plan and how would it benefit a parent like me')"
   ]
  },
  {
   "cell_type": "code",
   "execution_count": 31,
   "metadata": {},
   "outputs": [],
   "source": [
    "import pandas as pd\n",
    "from sentence_transformers import SentenceTransformer, util\n",
    "import langid\n",
    "\n",
    "# Load data from XLSX file\n",
    "file_path = 'cordlife_faqs1 - Copy.xlsx'\n",
    "raw = pd.read_excel(file_path)\n",
    "\n",
    "# Extract prompts and responses\n",
    "prompts = [str(prompt) for prompt in raw['prompt'].values]  # Convert to string\n",
    "responses = list(raw['response'].values)\n",
    "\n",
    "# Load Sentence Transformer model\n",
    "model = SentenceTransformer('sentence-transformers/paraphrase-multilingual-MiniLM-L12-v2')\n",
    "\n",
    "# Encode prompts into sentence embeddings\n",
    "prompt_embeddings = [model.encode(prompt, convert_to_tensor=True) for prompt in prompts]\n",
    "\n",
    "def search_multilingual(query, THRESHOLD=0.65):\n",
    "    lang, _ = langid.classify(query)  # Detect the language of the query\n",
    "    q_embedding = model.encode(query, convert_to_tensor=True)\n",
    "\n",
    "    out = []\n",
    "    for prompt, prompt_embedding, response in zip(prompts, prompt_embeddings, responses):\n",
    "        score = util.pytorch_cos_sim(q_embedding, prompt_embedding).item()\n",
    "        out.append((prompt, response, score))\n",
    "    out.sort(key=lambda x: -x[-1])\n",
    "\n",
    "    if out[0][2] < THRESHOLD:\n",
    "        return ['I don\\'t know']\n",
    "\n",
    "    top = out[:3]\n",
    "    return [(prompt, response, score) for prompt, response, score in top]\n",
    "\n"
   ]
  },
  {
   "cell_type": "code",
   "execution_count": 32,
   "metadata": {},
   "outputs": [
    {
     "data": {
      "text/plain": [
       "[('什麼是臍帶血？',\n",
       "  '臍帶血是嬰兒出生後和臍帶被切斷后殘留在臍帶中的血液。在懷孕期間，臍帶是母親和孩子之間的生命線。嬰兒分娩后，臍帶中的臍帶血可以為孩子和家庭成員帶來希望。臍帶血含有豐富的救命幹細胞來源，稱為造血幹細胞（HSC）。',\n",
       "  1.0),\n",
       " ('What is cord blood?',\n",
       "  'Cord blood is blood that remains in the umbilical cord following the birth of a baby and after the umbilical cord is cut. During pregnancy, the umbilical cord functions as a lifeline between mother and child. After a baby’s delivery, the cord blood present in the umbilical cord could offer hope for the child as well as members of the family. Cord blood contains a rich source of lifesaving stem cells called Haematopoietic Stem Cells (HSCs).',\n",
       "  0.8569766879081726),\n",
       " ('Apakah darah tali pusat?',\n",
       "  'Darah tali pusat adalah darah yang kekal dalam tali pusat selepas kelahiran bayi dan selepas tali pusat dipotong. Semasa mengandung, tali pusat berfungsi sebagai talian hayat antara ibu dan anak. Selepas melahirkan bayi, darah tali pusat yang terdapat dalam tali pusat boleh memberikan harapan kepada kanak-kanak itu serta ahli keluarga. Darah kord mengandungi sumber yang kaya dengan sel stem menyelamatkan nyawa yang dipanggil Sel Stem Haematopoietik (HSCs).',\n",
       "  0.8489006757736206)]"
      ]
     },
     "metadata": {},
     "output_type": "display_data"
    }
   ],
   "source": [
    "# Example usage\n",
    "query = '什麼是臍帶血？'\n",
    "result = search_multilingual(query)\n",
    "display(result)\n"
   ]
  },
  {
   "cell_type": "code",
   "execution_count": 29,
   "metadata": {},
   "outputs": [
    {
     "data": {
      "text/plain": [
       "[('Apakah Geran Langkah Pertama CDA?',\n",
       "  'Geran Langkah Pertama CDA ialah geran baru $3,000 bagi kanak-kanak Singapura yang layak yang dilahirkan mulai 24 Mac 2016. Ia dibayar ke dalam CDA kanak-kanak dan merupakan sebahagian daripada keseluruhan had sumbangan Kerajaan yang sedia ada.',\n",
       "  0.8305612802505493),\n",
       " ('什麼是 CDA 第一步補助金？',\n",
       "  'CDA 第一步補助金是為 2016 年 3 月 24 日出生的符合條件的新加坡兒童提供 3,000 加元的新補助金。它支付到兒童的CDA中，並構成現有政府總供款上限的一部分。',\n",
       "  0.7594665288925171),\n",
       " ('兒童發展帳戶（CDA）如何運作？', 'CDA 有兩個組成部分：CDA 第一步贈款和政府美元對美元匹配。', 0.7591106295585632)]"
      ]
     },
     "metadata": {},
     "output_type": "display_data"
    }
   ],
   "source": [
    "# Example usage with the multilingual lookup dictionary\n",
    "query = 'apakah itu CDA dan bagaimana ia berfungsi?'\n",
    "result = search_multilingual(query)\n",
    "\n",
    "# Print the result\n",
    "display(result)\n"
   ]
  },
  {
   "cell_type": "code",
   "execution_count": 28,
   "metadata": {},
   "outputs": [
    {
     "data": {
      "text/plain": [
       "[('Bagaimanakah darah tali pusat bayi saya disimpan?',\n",
       "  'Darah tali pusat bayi anda disimpan dalam kantung penyimpanan kriogenik yang diluluskan oleh FDA AS yang diperbuat daripada bahan khas yang direka khusus untuk menahan suhu kriogenik. Kantung ini mempunyai dua segmen utama (20% dan 80%) yang dilampirkan secara integral, dan dua segmen ujian yang juga dilampirkan secara integral. Segmen penting membolehkan ujian tambahan pada unit yang berkaitan untuk memastikan tiada sampel bercampur dan darah tali pusat tetap berdaya maju. Ujian ini biasanya dilakukan sebelum pemindahan. Mempunyai segmen dwi bersepadu menangani kemungkinan pengembangan sel stem masa depan. Ini bermakna apabila pengembangan sel stem boleh didapati secara komersial, anda akan dapat mengeluarkan sebahagian daripada sel stem untuk pengembangan sambil mengekalkan baki dalam simpanan.',\n",
       "  0.9090284705162048),\n",
       " ('Bagaimanakah darah tali pusat bayi saya dikumpulkan oleh OBGYN saya?',\n",
       "  'Sejurus selepas kelahiran bayi anda, tali pusat anak anda akan dikepit dan dipotong, dan anak anda akan dipindahkan ke kawasan kelahiran. Doktor kemudian mengumpul darah tali pusat dengan memasukkan jarum ke dalam urat umbilical, mengalirkan darah tali pusat ke dalam beg darah.',\n",
       "  0.879958987236023),\n",
       " ('Apa yang berlaku selepas darah tali pusat bayi saya dikumpulkan?',\n",
       "  'Selepas pengumpulan darah tali pusat bayi anda, kurier perubatan sepanjang masa akan mengumpul dan menghantar unit darah tali pusat bayi anda ke makmal pemprosesan dan penyimpanan sel stem Cordlife dalam masa 24 jam. Setelah menerima unit darah tali pusat bayi anda, juruteknik makmal Cordlife akan mula mengasingkan sel stem - langkah kritikal dalam perbankan darah tali pusat - yang akan menentukan bilangan sel stem yang boleh dituai atau pulih dari darah tali pusat. Kadar pemulihan sel adalah kritikal kerana bilangan sel stem yang lebih tinggi dapat meningkatkan kejayaan pemindahan darah tali pusat atau rawatan. Itulah sebabnya Cordlife melabur dalam sistem AXP® II maju untuk menuai sel stem maksimum untuk hasil pemindahan atau rawatan yang lebih baik. Sistem AXP® II adalah peranti yang dibersihkan oleh FDA A.S. yang mampu memulihkan lebih daripada 97% sel stem CD34+ yang berdaya maju, lebih tinggi daripada sistem pemprosesan lain yang tersedia.3 Sistem pemprosesan darah tali pusat yang selamat, steril dan automatik ini juga membantu memastikan darah tali pusat bayi anda diproses dengan teknologi yang sangat tepat, boleh dipercayai, dan terkini, dengan itu menghapuskan sebarang kemungkinan pencemaran silang unit darah tali pusat. Sebaik sahaja sel stem telah diasingkan dan disimpan dalam cryobag dwi petak penyambung kami, ia diletakkan ke dalam infuser cryoprotectant cryoprotectant yang boleh diprogramkan sepenuhnya dan automatik yang membolehkan penyediaan sel stem yang konsisten untuk cryopreservation. Tidak seperti peranti lain yang memerlukan pengendalian manual, infuser mempunyai ketepatan yang tinggi dan mampu menyuntik 0.5ml cryoprotectant seminit pada kadar aliran malar dan suhu yang telah ditetapkan. Teknik microstepping lanjutan juga digunakan untuk menghapuskan denyutan aliran. Sebarang sisihan daripada proses ini boleh menjejaskan daya maju sel dan potensi. Oleh itu, automasi dengan ciri pengasingan bunyi dan anti-getaran yang unggul membantu memastikan cryoprotectant bercampur dengan sel-sel untuk melindungi daya maju dan potensi mereka semasa cryopreservation.3 Rubinstein P. Cord perbankan darah untuk pemindahan klinikal. Pemindahan Sumsum Tulang. 2009; 44(10):635-642. doi:10.1038/bmt.2009.281.',\n",
       "  0.8330243825912476)]"
      ]
     },
     "metadata": {},
     "output_type": "display_data"
    }
   ],
   "source": [
    "query = 'kenapa saya perlu menyimpan darah tali pusat bayi saya?'\n",
    "result = search_multilingual(query)\n",
    "\n",
    "# Print the result\n",
    "display(result)\n"
   ]
  }
 ],
 "metadata": {
  "kernelspec": {
   "display_name": "Python 3",
   "language": "python",
   "name": "python3"
  },
  "language_info": {
   "codemirror_mode": {
    "name": "ipython",
    "version": 3
   },
   "file_extension": ".py",
   "mimetype": "text/x-python",
   "name": "python",
   "nbconvert_exporter": "python",
   "pygments_lexer": "ipython3",
   "version": "3.8.18"
  }
 },
 "nbformat": 4,
 "nbformat_minor": 2
}
