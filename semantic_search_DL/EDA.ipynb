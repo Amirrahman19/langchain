{
 "cells": [
  {
   "cell_type": "code",
   "execution_count": 1,
   "metadata": {},
   "outputs": [
    {
     "data": {
      "text/html": [
       "<div>\n",
       "<style scoped>\n",
       "    .dataframe tbody tr th:only-of-type {\n",
       "        vertical-align: middle;\n",
       "    }\n",
       "\n",
       "    .dataframe tbody tr th {\n",
       "        vertical-align: top;\n",
       "    }\n",
       "\n",
       "    .dataframe thead th {\n",
       "        text-align: right;\n",
       "    }\n",
       "</style>\n",
       "<table border=\"1\" class=\"dataframe\">\n",
       "  <thead>\n",
       "    <tr style=\"text-align: right;\">\n",
       "      <th></th>\n",
       "      <th>prompt</th>\n",
       "      <th>response</th>\n",
       "      <th>Unnamed: 2</th>\n",
       "    </tr>\n",
       "  </thead>\n",
       "  <tbody>\n",
       "    <tr>\n",
       "      <th>0</th>\n",
       "      <td>What is cord blood?</td>\n",
       "      <td>Cord blood is blood that remains in the umbili...</td>\n",
       "      <td>NaN</td>\n",
       "    </tr>\n",
       "    <tr>\n",
       "      <th>1</th>\n",
       "      <td>What are cord blood stem cells?</td>\n",
       "      <td>Cord blood stem cells are also known as Haemat...</td>\n",
       "      <td>NaN</td>\n",
       "    </tr>\n",
       "    <tr>\n",
       "      <th>2</th>\n",
       "      <td>Why should I save my baby's cord blood stem ce...</td>\n",
       "      <td>There are several advantages of storing your b...</td>\n",
       "      <td>NaN</td>\n",
       "    </tr>\n",
       "    <tr>\n",
       "      <th>3</th>\n",
       "      <td>What can cord blood stem cells do?</td>\n",
       "      <td>Cord blood stem cells can:\\r\\n\\r\\nReplace and ...</td>\n",
       "      <td>NaN</td>\n",
       "    </tr>\n",
       "    <tr>\n",
       "      <th>4</th>\n",
       "      <td>How does a cord blood stem cell transplant work?</td>\n",
       "      <td>The purpose of a stem cell treatment is to rec...</td>\n",
       "      <td>NaN</td>\n",
       "    </tr>\n",
       "    <tr>\n",
       "      <th>...</th>\n",
       "      <td>...</td>\n",
       "      <td>...</td>\n",
       "      <td>...</td>\n",
       "    </tr>\n",
       "    <tr>\n",
       "      <th>58</th>\n",
       "      <td>When will the new GST change from 7% to 8% tak...</td>\n",
       "      <td>The new GST change from 7% to 8% will take eff...</td>\n",
       "      <td>NaN</td>\n",
       "    </tr>\n",
       "    <tr>\n",
       "      <th>59</th>\n",
       "      <td>How will the GST change affect my payments to ...</td>\n",
       "      <td>For Existing Clients\\r\\nThe revision in GST ra...</td>\n",
       "      <td>NaN</td>\n",
       "    </tr>\n",
       "    <tr>\n",
       "      <th>60</th>\n",
       "      <td>With the absorption of the 1% GST increase, wh...</td>\n",
       "      <td>Any enrolment on or before 31 December 2022 wi...</td>\n",
       "      <td>NaN</td>\n",
       "    </tr>\n",
       "    <tr>\n",
       "      <th>61</th>\n",
       "      <td>What should I do if I am currently on an annua...</td>\n",
       "      <td>You can consider upgrading your current annual...</td>\n",
       "      <td>NaN</td>\n",
       "    </tr>\n",
       "    <tr>\n",
       "      <th>62</th>\n",
       "      <td>If I have opted for the 60-month plan, how wou...</td>\n",
       "      <td>For enrolment and invoices billed in Year 2022...</td>\n",
       "      <td>NaN</td>\n",
       "    </tr>\n",
       "  </tbody>\n",
       "</table>\n",
       "<p>63 rows × 3 columns</p>\n",
       "</div>"
      ],
      "text/plain": [
       "                                               prompt  \\\n",
       "0                                 What is cord blood?   \n",
       "1                     What are cord blood stem cells?   \n",
       "2   Why should I save my baby's cord blood stem ce...   \n",
       "3                  What can cord blood stem cells do?   \n",
       "4    How does a cord blood stem cell transplant work?   \n",
       "..                                                ...   \n",
       "58  When will the new GST change from 7% to 8% tak...   \n",
       "59  How will the GST change affect my payments to ...   \n",
       "60  With the absorption of the 1% GST increase, wh...   \n",
       "61  What should I do if I am currently on an annua...   \n",
       "62  If I have opted for the 60-month plan, how wou...   \n",
       "\n",
       "                                             response  Unnamed: 2  \n",
       "0   Cord blood is blood that remains in the umbili...         NaN  \n",
       "1   Cord blood stem cells are also known as Haemat...         NaN  \n",
       "2   There are several advantages of storing your b...         NaN  \n",
       "3   Cord blood stem cells can:\\r\\n\\r\\nReplace and ...         NaN  \n",
       "4   The purpose of a stem cell treatment is to rec...         NaN  \n",
       "..                                                ...         ...  \n",
       "58  The new GST change from 7% to 8% will take eff...         NaN  \n",
       "59  For Existing Clients\\r\\nThe revision in GST ra...         NaN  \n",
       "60  Any enrolment on or before 31 December 2022 wi...         NaN  \n",
       "61  You can consider upgrading your current annual...         NaN  \n",
       "62  For enrolment and invoices billed in Year 2022...         NaN  \n",
       "\n",
       "[63 rows x 3 columns]"
      ]
     },
     "execution_count": 1,
     "metadata": {},
     "output_type": "execute_result"
    }
   ],
   "source": [
    "import pandas as pd\n",
    "\n",
    "raw = pd.read_csv('cordlife_faqs1.csv')\n",
    "raw"
   ]
  },
  {
   "cell_type": "code",
   "execution_count": 2,
   "metadata": {},
   "outputs": [
    {
     "data": {
      "application/vnd.jupyter.widget-view+json": {
       "model_id": "5837461628d441e38e736e1625b03364",
       "version_major": 2,
       "version_minor": 0
      },
      "text/plain": [
       "Summarize dataset:   0%|          | 0/5 [00:00<?, ?it/s]"
      ]
     },
     "metadata": {},
     "output_type": "display_data"
    },
    {
     "data": {
      "application/vnd.jupyter.widget-view+json": {
       "model_id": "57a8f1e6d2f94e3583074f2302539acd",
       "version_major": 2,
       "version_minor": 0
      },
      "text/plain": [
       "Generate report structure:   0%|          | 0/1 [00:00<?, ?it/s]"
      ]
     },
     "metadata": {},
     "output_type": "display_data"
    },
    {
     "data": {
      "application/vnd.jupyter.widget-view+json": {
       "model_id": "bee7b6ae898b420b8d9d4e1f9b82cce2",
       "version_major": 2,
       "version_minor": 0
      },
      "text/plain": [
       "Render HTML:   0%|          | 0/1 [00:00<?, ?it/s]"
      ]
     },
     "metadata": {},
     "output_type": "display_data"
    },
    {
     "data": {
      "application/vnd.jupyter.widget-view+json": {
       "model_id": "fef836cbb29a43e6a8f3d4ee1f050803",
       "version_major": 2,
       "version_minor": 0
      },
      "text/plain": [
       "Export report to file:   0%|          | 0/1 [00:00<?, ?it/s]"
      ]
     },
     "metadata": {},
     "output_type": "display_data"
    },
    {
     "data": {
      "application/vnd.jupyter.widget-view+json": {
       "model_id": "8389b2dc70d54cc89b88d865ee5b1640",
       "version_major": 2,
       "version_minor": 0
      },
      "text/plain": [
       "Render widgets:   0%|          | 0/1 [00:00<?, ?it/s]"
      ]
     },
     "metadata": {},
     "output_type": "display_data"
    },
    {
     "data": {
      "application/vnd.jupyter.widget-view+json": {
       "model_id": "90808fe9bf064149a2c29338340e51b7",
       "version_major": 2,
       "version_minor": 0
      },
      "text/plain": [
       "VBox(children=(Tab(children=(Tab(children=(GridBox(children=(VBox(children=(GridspecLayout(children=(HTML(valu…"
      ]
     },
     "metadata": {},
     "output_type": "display_data"
    }
   ],
   "source": [
    "import pandas as pd\n",
    "from ydata_profiling import ProfileReport\n",
    "\n",
    "# Load your CSV data into a pandas DataFrame\n",
    "csv_file_path = 'cordlife_faqs1.csv'\n",
    "df = pd.read_csv(csv_file_path)\n",
    "\n",
    "# Generate a pandas profile report\n",
    "profile = ProfileReport(df, title='Cordlife FAQs Profiling Report', explorative=True)\n",
    "\n",
    "# Save the report to an HTML file\n",
    "report_file_path = 'cordlife_faqs_report.html'\n",
    "profile.to_file(report_file_path)\n",
    "\n",
    "# Display the report\n",
    "profile.to_widgets()\n"
   ]
  },
  {
   "cell_type": "code",
   "execution_count": 3,
   "metadata": {},
   "outputs": [
    {
     "name": "stdout",
     "output_type": "stream",
     "text": [
      "<class 'pandas.core.frame.DataFrame'>\n",
      "RangeIndex: 63 entries, 0 to 62\n",
      "Data columns (total 3 columns):\n",
      " #   Column      Non-Null Count  Dtype  \n",
      "---  ------      --------------  -----  \n",
      " 0   prompt      63 non-null     object \n",
      " 1   response    63 non-null     object \n",
      " 2   Unnamed: 2  0 non-null      float64\n",
      "dtypes: float64(1), object(2)\n",
      "memory usage: 1.6+ KB\n"
     ]
    }
   ],
   "source": [
    "raw.info()"
   ]
  }
 ],
 "metadata": {
  "kernelspec": {
   "display_name": "cordlife",
   "language": "python",
   "name": "python3"
  },
  "language_info": {
   "codemirror_mode": {
    "name": "ipython",
    "version": 3
   },
   "file_extension": ".py",
   "mimetype": "text/x-python",
   "name": "python",
   "nbconvert_exporter": "python",
   "pygments_lexer": "ipython3",
   "version": "3.8.18"
  }
 },
 "nbformat": 4,
 "nbformat_minor": 2
}
