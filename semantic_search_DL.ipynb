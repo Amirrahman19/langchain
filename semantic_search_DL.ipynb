{
 "cells": [
  {
   "cell_type": "markdown",
   "id": "43d63432",
   "metadata": {},
   "source": [
    "## Search Engine using semantic search for Cordlife SG \n",
    "### Data source: 64 FAQs taken directly from the [website](https://www.cordlife.com/sg/)\n",
    "### This search engine operates using a deep learning model under the 'Sentence Trasnformers library'.\n",
    "\n",
    "### Author: Amir Rahman"
   ]
  },
  {
   "cell_type": "markdown",
   "id": "cfa19fc7",
   "metadata": {},
   "source": [
    "### Testing the model on a sample of sentences"
   ]
  },
  {
   "cell_type": "code",
   "execution_count": 2,
   "id": "197f2903-ed01-447d-9dbe-2ee7844632dd",
   "metadata": {},
   "outputs": [
    {
     "name": "stdout",
     "output_type": "stream",
     "text": [
      "tensor([[0.6003]])\n"
     ]
    }
   ],
   "source": [
    "from sentence_transformers import SentenceTransformer, util\n",
    "sentences = [\"I'm happy\", \"I'm full of happiness\"]\n",
    "\n",
    "model = SentenceTransformer('sentence-transformers/all-MiniLM-L6-v2')\n",
    "\n",
    "#Compute embedding for both lists\n",
    "embedding_1= model.encode(sentences[0], convert_to_tensor=True)\n",
    "embedding_2 = model.encode(sentences[1], convert_to_tensor=True)\n",
    "\n",
    "x = util.pytorch_cos_sim(embedding_1, embedding_2)\n",
    "print(x)"
   ]
  },
  {
   "cell_type": "markdown",
   "id": "02ed8a35",
   "metadata": {},
   "source": [
    "### Importing the FAQ dataset"
   ]
  },
  {
   "cell_type": "code",
   "execution_count": 3,
   "id": "0b708e56-b89e-4ae8-a96f-67c46ebd858a",
   "metadata": {},
   "outputs": [
    {
     "data": {
      "text/html": [
       "<div>\n",
       "<style scoped>\n",
       "    .dataframe tbody tr th:only-of-type {\n",
       "        vertical-align: middle;\n",
       "    }\n",
       "\n",
       "    .dataframe tbody tr th {\n",
       "        vertical-align: top;\n",
       "    }\n",
       "\n",
       "    .dataframe thead th {\n",
       "        text-align: right;\n",
       "    }\n",
       "</style>\n",
       "<table border=\"1\" class=\"dataframe\">\n",
       "  <thead>\n",
       "    <tr style=\"text-align: right;\">\n",
       "      <th></th>\n",
       "      <th>prompt</th>\n",
       "      <th>response</th>\n",
       "      <th>Unnamed: 2</th>\n",
       "    </tr>\n",
       "  </thead>\n",
       "  <tbody>\n",
       "    <tr>\n",
       "      <th>0</th>\n",
       "      <td>What is cord blood?</td>\n",
       "      <td>Cord blood is blood that remains in the umbili...</td>\n",
       "      <td>NaN</td>\n",
       "    </tr>\n",
       "    <tr>\n",
       "      <th>1</th>\n",
       "      <td>What are cord blood stem cells?</td>\n",
       "      <td>Cord blood stem cells are also known as Haemat...</td>\n",
       "      <td>NaN</td>\n",
       "    </tr>\n",
       "    <tr>\n",
       "      <th>2</th>\n",
       "      <td>Why should I save my baby's cord blood stem ce...</td>\n",
       "      <td>There are several advantages of storing your b...</td>\n",
       "      <td>NaN</td>\n",
       "    </tr>\n",
       "    <tr>\n",
       "      <th>3</th>\n",
       "      <td>What can cord blood stem cells do?</td>\n",
       "      <td>Cord blood stem cells can:\\r\\n\\r\\nReplace and ...</td>\n",
       "      <td>NaN</td>\n",
       "    </tr>\n",
       "    <tr>\n",
       "      <th>4</th>\n",
       "      <td>How does a cord blood stem cell transplant work?</td>\n",
       "      <td>The purpose of a stem cell treatment is to rec...</td>\n",
       "      <td>NaN</td>\n",
       "    </tr>\n",
       "    <tr>\n",
       "      <th>...</th>\n",
       "      <td>...</td>\n",
       "      <td>...</td>\n",
       "      <td>...</td>\n",
       "    </tr>\n",
       "    <tr>\n",
       "      <th>58</th>\n",
       "      <td>When will the new GST change from 7% to 8% tak...</td>\n",
       "      <td>The new GST change from 7% to 8% will take eff...</td>\n",
       "      <td>NaN</td>\n",
       "    </tr>\n",
       "    <tr>\n",
       "      <th>59</th>\n",
       "      <td>How will the GST change affect my payments to ...</td>\n",
       "      <td>For Existing Clients\\r\\nThe revision in GST ra...</td>\n",
       "      <td>NaN</td>\n",
       "    </tr>\n",
       "    <tr>\n",
       "      <th>60</th>\n",
       "      <td>With the absorption of the 1% GST increase, wh...</td>\n",
       "      <td>Any enrolment on or before 31 December 2022 wi...</td>\n",
       "      <td>NaN</td>\n",
       "    </tr>\n",
       "    <tr>\n",
       "      <th>61</th>\n",
       "      <td>What should I do if I am currently on an annua...</td>\n",
       "      <td>You can consider upgrading your current annual...</td>\n",
       "      <td>NaN</td>\n",
       "    </tr>\n",
       "    <tr>\n",
       "      <th>62</th>\n",
       "      <td>If I have opted for the 60-month plan, how wou...</td>\n",
       "      <td>For enrolment and invoices billed in Year 2022...</td>\n",
       "      <td>NaN</td>\n",
       "    </tr>\n",
       "  </tbody>\n",
       "</table>\n",
       "<p>63 rows × 3 columns</p>\n",
       "</div>"
      ],
      "text/plain": [
       "                                               prompt  \\\n",
       "0                                 What is cord blood?   \n",
       "1                     What are cord blood stem cells?   \n",
       "2   Why should I save my baby's cord blood stem ce...   \n",
       "3                  What can cord blood stem cells do?   \n",
       "4    How does a cord blood stem cell transplant work?   \n",
       "..                                                ...   \n",
       "58  When will the new GST change from 7% to 8% tak...   \n",
       "59  How will the GST change affect my payments to ...   \n",
       "60  With the absorption of the 1% GST increase, wh...   \n",
       "61  What should I do if I am currently on an annua...   \n",
       "62  If I have opted for the 60-month plan, how wou...   \n",
       "\n",
       "                                             response  Unnamed: 2  \n",
       "0   Cord blood is blood that remains in the umbili...         NaN  \n",
       "1   Cord blood stem cells are also known as Haemat...         NaN  \n",
       "2   There are several advantages of storing your b...         NaN  \n",
       "3   Cord blood stem cells can:\\r\\n\\r\\nReplace and ...         NaN  \n",
       "4   The purpose of a stem cell treatment is to rec...         NaN  \n",
       "..                                                ...         ...  \n",
       "58  The new GST change from 7% to 8% will take eff...         NaN  \n",
       "59  For Existing Clients\\r\\nThe revision in GST ra...         NaN  \n",
       "60  Any enrolment on or before 31 December 2022 wi...         NaN  \n",
       "61  You can consider upgrading your current annual...         NaN  \n",
       "62  For enrolment and invoices billed in Year 2022...         NaN  \n",
       "\n",
       "[63 rows x 3 columns]"
      ]
     },
     "execution_count": 3,
     "metadata": {},
     "output_type": "execute_result"
    }
   ],
   "source": [
    "import pandas as pd\n",
    "\n",
    "raw = pd.read_csv('cordlife_faqs1.csv')\n",
    "\n",
    "lookup = {}\n",
    "for a, b, *_ in raw.values:\n",
    "    lookup[a] = b\n",
    "\n",
    "raw"
   ]
  },
  {
   "cell_type": "markdown",
   "id": "96f27ba9",
   "metadata": {},
   "source": [
    "### Loading the L6 model and initializing the sentence embedding variable"
   ]
  },
  {
   "cell_type": "code",
   "execution_count": 3,
   "id": "849624f5-20d9-4dce-beea-dc9aaba3c679",
   "metadata": {},
   "outputs": [],
   "source": [
    "from sentence_transformers import SentenceTransformer, util\n",
    "\n",
    "sentences = list(raw['prompt'].values)\n",
    "model = SentenceTransformer('sentence-transformers/all-MiniLM-L6-v2')\n",
    "sentences_embeddings = [model.encode(s, convert_to_tensor=True) for s in sentences]\n"
   ]
  },
  {
   "cell_type": "markdown",
   "id": "8615bfca",
   "metadata": {},
   "source": [
    "### Creating main search function:\n",
    "#### Includes the sentence embedding and question embedding variables"
   ]
  },
  {
   "cell_type": "code",
   "execution_count": 4,
   "id": "b9940544-9eda-4717-857e-4fad27036b47",
   "metadata": {},
   "outputs": [
    {
     "data": {
      "text/plain": [
       "[('How would Preferential Plan benefit a Cordlife Parent like me?',\n",
       "  \"As a gesture of our appreciation to our Cordlife parents, we've introduced the Preferential Plan which allows Cordlife Preferential Plan lets you enjoy: Protection against increases in Annual Instalment Fees. Protection against hikes in Goods and Services Tax (GST). The convenience of a one-time payment for the remaining balance of annual instalment fee. Multiple payment modes such as Child Development Account (CDA), credit card interest-free instalment plans & etc.                                                           Contact us to find out more about the full benefits.\",\n",
       "  0.9085880517959595),\n",
       " ('What is Cordlife Preferential Plan?',\n",
       "  \"As a gesture of our appreciation to our Cordlife parents, we've introduced the Preferential Plan which allows parents to prepay the balance of their annual fees. Multiple payment modes are available; including the use of your child's Child Development Account (CDA) for this one-time payment. Contact us to find out more about the full benefits.\",\n",
       "  0.8458268046379089),\n",
       " ('What if I elect for Cordlife Preferential Plan and then terminate the Service Agreement before the full 21 years?',\n",
       "  \"In the event that that the Agreement you signed is prematurely terminated for valid reasons before the entire contractual period of 21 years (for example: transplant's use), Cordlife will accord a pro-rated refund at nominal value.\",\n",
       "  0.6249319911003113)]"
      ]
     },
     "execution_count": 4,
     "metadata": {},
     "output_type": "execute_result"
    }
   ],
   "source": [
    "def search(q, THRESHOLD=0.65):\n",
    "    q_embedding = model.encode(q, convert_to_tensor=True)\n",
    "    out = []\n",
    "    for sentence, sentence_embedding in zip(sentences, sentences_embeddings):\n",
    "        score = util.pytorch_cos_sim(q_embedding, sentence_embedding).item()\n",
    "        out.append((sentence, score))\n",
    "    out.sort(key=lambda x:-x[-1])\n",
    "    if out[0][1] < THRESHOLD:\n",
    "        return ['I don\\'t know']\n",
    "    top = out[:3]\n",
    "    return [(qns, lookup[qns], score) for qns,score in top]\n",
    "\n",
    "search('what is cordlife preferential plan and how would it benefit a parent like me')"
   ]
  },
  {
   "cell_type": "markdown",
   "id": "7621d506",
   "metadata": {},
   "source": [
    "#### Testing the model and function on some sample questions. \n",
    "##### The accuracy scores of the model for the responses to the questions are provided at the end of each of the top 3 best matched FAQs"
   ]
  },
  {
   "cell_type": "code",
   "execution_count": 5,
   "id": "e1e3490e-3a2c-4de3-a482-75806dd6faf7",
   "metadata": {},
   "outputs": [
    {
     "data": {
      "text/plain": [
       "[('What is CDA First Step Grant?',\n",
       "  'The CDA First Step Grant is new grant of $3,000 for eligible Singaporean children born from 24 March 2016. It is paid into the child�s CDA and forms part of the existing overall Government contribution cap.\\r\\n\\r\\nSingaporean children born from 24 March 2016 who are Singaporean Citizens (or become a citizen before turning 12 years old) and have lawfully married parents, are eligible for the CDA benefits.',\n",
       "  0.7030069828033447),\n",
       " ('How does the Child Development Account (CDA) work?',\n",
       "  'The CDA has two components: the CDA First Step Grant and the Government Dollar-for-Dollar Matching.\\r\\n\\r\\nUnder the CDA First Step Grant, parents will receive an initial amount of $3,000 (from the Government�s existing contribution caps) which will be deposited into your child�s account.',\n",
       "  0.634533703327179),\n",
       " ('What is a Child Development Account (CDA)?',\n",
       "  'The CDA* is a special savings account for children to help build up the savings that can be spent on approved uses.\\r\\n\\r\\nYour child�s CDA can be opened at any OCBC Bank, DBS Bank or UOB Bank branch.\\r\\n\\r\\nYou can deposit cash into the CDA any time until 31 December of the year your child turns 12 years of age.\\r\\n\\r\\nFor more information on CDA, please visit www.babybonus.msf.gov.sg or ask our friendly consultants today!\\r\\n\\r\\n*A child is eligible to apply for a CDA if he/she is:\\r\\n\\r\\nBorn on or after 17 August 2008\\r\\nA Singaporean citizen (or becomes a citizen before the age of 12)\\r\\nThe parents are legally married',\n",
       "  0.602344274520874)]"
      ]
     },
     "execution_count": 5,
     "metadata": {},
     "output_type": "execute_result"
    }
   ],
   "source": [
    "search('what is CDA and how does it work')"
   ]
  },
  {
   "cell_type": "code",
   "execution_count": 6,
   "id": "02106272-5971-41a7-a8c8-9e1fd0caaed7",
   "metadata": {},
   "outputs": [
    {
     "data": {
      "text/plain": [
       "[\"I don't know\"]"
      ]
     },
     "execution_count": 6,
     "metadata": {},
     "output_type": "execute_result"
    }
   ],
   "source": [
    "search('does cordlife plan to launch anything in the near future')"
   ]
  },
  {
   "cell_type": "code",
   "execution_count": 7,
   "id": "b184f5a7-565d-42cb-8de6-725f02c896e4",
   "metadata": {},
   "outputs": [
    {
     "data": {
      "text/plain": [
       "[\"I don't know\"]"
      ]
     },
     "execution_count": 7,
     "metadata": {},
     "output_type": "execute_result"
    }
   ],
   "source": [
    "search('does cordlife have branches in europe or america')"
   ]
  },
  {
   "cell_type": "code",
   "execution_count": 8,
   "id": "0f390b82-7d2a-49e1-b61f-72e64307af22",
   "metadata": {},
   "outputs": [
    {
     "data": {
      "text/plain": [
       "[\"I don't know\"]"
      ]
     },
     "execution_count": 8,
     "metadata": {},
     "output_type": "execute_result"
    }
   ],
   "source": [
    "search('can i donate blood to cordlife')"
   ]
  },
  {
   "cell_type": "markdown",
   "id": "c0c568c8",
   "metadata": {},
   "source": [
    "### Loading the L12 model and initializing the sentence embedding variable"
   ]
  },
  {
   "cell_type": "code",
   "execution_count": 9,
   "id": "fa7572a0-8625-4163-8d4c-92636068cd24",
   "metadata": {},
   "outputs": [],
   "source": [
    "from sentence_transformers import SentenceTransformer, util\n",
    "\n",
    "sentences = list(raw['prompt'].values)\n",
    "model = SentenceTransformer('sentence-transformers/all-MiniLM-L12-v2')\n",
    "sentences_embeddings = [model.encode(s, convert_to_tensor=True) for s in sentences]\n"
   ]
  },
  {
   "cell_type": "code",
   "execution_count": 10,
   "id": "d938a9c2",
   "metadata": {},
   "outputs": [
    {
     "data": {
      "text/plain": [
       "[('How would Preferential Plan benefit a Cordlife Parent like me?',\n",
       "  \"As a gesture of our appreciation to our Cordlife parents, we've introduced the Preferential Plan which allows Cordlife Preferential Plan lets you enjoy: Protection against increases in Annual Instalment Fees. Protection against hikes in Goods and Services Tax (GST). The convenience of a one-time payment for the remaining balance of annual instalment fee. Multiple payment modes such as Child Development Account (CDA), credit card interest-free instalment plans & etc.                                                           Contact us to find out more about the full benefits.\",\n",
       "  0.9248884916305542),\n",
       " ('What is Cordlife Preferential Plan?',\n",
       "  \"As a gesture of our appreciation to our Cordlife parents, we've introduced the Preferential Plan which allows parents to prepay the balance of their annual fees. Multiple payment modes are available; including the use of your child's Child Development Account (CDA) for this one-time payment. Contact us to find out more about the full benefits.\",\n",
       "  0.8348439931869507),\n",
       " ('I am an existing Cordlife Parent. Will the benefits of Cordlife Care360� Safeguard programme be extended to my current account(s)?',\n",
       "  'At this moment, only clients who enrol with Cordlife from 7 September 2011 can enjoy the benefits of Cordlife Care 360� Safeguard programme.',\n",
       "  0.608284592628479)]"
      ]
     },
     "execution_count": 10,
     "metadata": {},
     "output_type": "execute_result"
    }
   ],
   "source": [
    "def search(q, THRESHOLD=0.65):\n",
    "    q_embedding = model.encode(q, convert_to_tensor=True)\n",
    "    out = []\n",
    "    for sentence, sentence_embedding in zip(sentences, sentences_embeddings):\n",
    "        score = util.pytorch_cos_sim(q_embedding, sentence_embedding).item()\n",
    "        out.append((sentence, score))\n",
    "    out.sort(key=lambda x:-x[-1])\n",
    "    if out[0][1] < THRESHOLD:\n",
    "        return ['I don\\'t know']\n",
    "    top = out[:3]\n",
    "    return [(qns, lookup[qns], score) for qns,score in top]\n",
    "\n",
    "search('what is cordlife preferential plan and how would it benefit a parent like me')"
   ]
  },
  {
   "cell_type": "code",
   "execution_count": 11,
   "id": "9238adc3",
   "metadata": {},
   "outputs": [
    {
     "data": {
      "text/plain": [
       "[('How does the Child Development Account (CDA) work?',\n",
       "  'The CDA has two components: the CDA First Step Grant and the Government Dollar-for-Dollar Matching.\\r\\n\\r\\nUnder the CDA First Step Grant, parents will receive an initial amount of $3,000 (from the Government�s existing contribution caps) which will be deposited into your child�s account.',\n",
       "  0.6768630743026733),\n",
       " ('What is a Child Development Account (CDA)?',\n",
       "  'The CDA* is a special savings account for children to help build up the savings that can be spent on approved uses.\\r\\n\\r\\nYour child�s CDA can be opened at any OCBC Bank, DBS Bank or UOB Bank branch.\\r\\n\\r\\nYou can deposit cash into the CDA any time until 31 December of the year your child turns 12 years of age.\\r\\n\\r\\nFor more information on CDA, please visit www.babybonus.msf.gov.sg or ask our friendly consultants today!\\r\\n\\r\\n*A child is eligible to apply for a CDA if he/she is:\\r\\n\\r\\nBorn on or after 17 August 2008\\r\\nA Singaporean citizen (or becomes a citizen before the age of 12)\\r\\nThe parents are legally married',\n",
       "  0.6668098568916321),\n",
       " ('What is CDA First Step Grant?',\n",
       "  'The CDA First Step Grant is new grant of $3,000 for eligible Singaporean children born from 24 March 2016. It is paid into the child�s CDA and forms part of the existing overall Government contribution cap.\\r\\n\\r\\nSingaporean children born from 24 March 2016 who are Singaporean Citizens (or become a citizen before turning 12 years old) and have lawfully married parents, are eligible for the CDA benefits.',\n",
       "  0.6533406376838684)]"
      ]
     },
     "execution_count": 11,
     "metadata": {},
     "output_type": "execute_result"
    }
   ],
   "source": [
    "search('what is CDA and how does it work')"
   ]
  },
  {
   "cell_type": "code",
   "execution_count": 12,
   "id": "e8985b64",
   "metadata": {},
   "outputs": [
    {
     "data": {
      "text/plain": [
       "[\"I don't know\"]"
      ]
     },
     "execution_count": 12,
     "metadata": {},
     "output_type": "execute_result"
    }
   ],
   "source": [
    "search('does cordlife plan to launch anything in the near future')"
   ]
  },
  {
   "cell_type": "code",
   "execution_count": 13,
   "id": "cd3d10bc",
   "metadata": {},
   "outputs": [
    {
     "data": {
      "text/plain": [
       "[\"I don't know\"]"
      ]
     },
     "execution_count": 13,
     "metadata": {},
     "output_type": "execute_result"
    }
   ],
   "source": [
    "search('does cordlife have branches in europe or america')"
   ]
  },
  {
   "cell_type": "markdown",
   "id": "d20dd650",
   "metadata": {},
   "source": [
    "### Loading the L12 Multilingual model and initializing the sentence embedding variable"
   ]
  },
  {
   "cell_type": "code",
   "execution_count": 4,
   "id": "74f0883b",
   "metadata": {},
   "outputs": [],
   "source": [
    "# sentence-transformers/paraphrase-multilingual-MiniLM-L12-v2\n",
    "from sentence_transformers import SentenceTransformer, util\n",
    "\n",
    "sentences = list(raw['prompt'].values)\n",
    "model = SentenceTransformer('sentence-transformers/paraphrase-multilingual-MiniLM-L12-v2')\n",
    "sentences_embeddings = [model.encode(s, convert_to_tensor=True) for s in sentences]\n"
   ]
  },
  {
   "cell_type": "code",
   "execution_count": 12,
   "id": "b12526b4",
   "metadata": {},
   "outputs": [
    {
     "data": {
      "text/plain": [
       "[('How would Preferential Plan benefit a Cordlife Parent like me?',\n",
       "  \"As a gesture of our appreciation to our Cordlife parents, we've introduced the Preferential Plan which allows Cordlife Preferential Plan lets you enjoy: Protection against increases in Annual Instalment Fees. Protection against hikes in Goods and Services Tax (GST). The convenience of a one-time payment for the remaining balance of annual instalment fee. Multiple payment modes such as Child Development Account (CDA), credit card interest-free instalment plans & etc.                                                           Contact us to find out more about the full benefits.\",\n",
       "  0.9360084533691406),\n",
       " ('What is Cordlife Preferential Plan?',\n",
       "  \"As a gesture of our appreciation to our Cordlife parents, we've introduced the Preferential Plan which allows parents to prepay the balance of their annual fees. Multiple payment modes are available; including the use of your child's Child Development Account (CDA) for this one-time payment. Contact us to find out more about the full benefits.\",\n",
       "  0.7924670577049255),\n",
       " ('I am an existing Cordlife Parent. Will the benefits of Cordlife Care360� Safeguard programme be extended to my current account(s)?',\n",
       "  'At this moment, only clients who enrol with Cordlife from 7 September 2011 can enjoy the benefits of Cordlife Care 360� Safeguard programme.',\n",
       "  0.7035233378410339)]"
      ]
     },
     "execution_count": 12,
     "metadata": {},
     "output_type": "execute_result"
    }
   ],
   "source": [
    "def search(q, THRESHOLD=0.65):\n",
    "    q_embedding = model.encode(q, convert_to_tensor=True)\n",
    "    out = []\n",
    "    for sentence, sentence_embedding in zip(sentences, sentences_embeddings):\n",
    "        score = util.pytorch_cos_sim(q_embedding, sentence_embedding).item()\n",
    "        out.append((sentence, score))\n",
    "    out.sort(key=lambda x:-x[-1])\n",
    "    if out[0][1] < THRESHOLD:\n",
    "        return ['I don\\'t know']\n",
    "    top = out[:3]\n",
    "    return [(qns, lookup[qns], score) for qns,score in top]\n",
    "\n",
    "search('what is cordlife preferential plan and how would it benefit a parent like me')"
   ]
  },
  {
   "cell_type": "markdown",
   "id": "890b12c6",
   "metadata": {},
   "source": [
    "### Testing the models's capabilities with French "
   ]
  },
  {
   "cell_type": "code",
   "execution_count": 13,
   "id": "bf578ede",
   "metadata": {},
   "outputs": [
    {
     "data": {
      "text/plain": [
       "[('How does the Child Development Account (CDA) work?',\n",
       "  'The CDA has two components: the CDA First Step Grant and the Government Dollar-for-Dollar Matching.\\r\\n\\r\\nUnder the CDA First Step Grant, parents will receive an initial amount of $3,000 (from the Government�s existing contribution caps) which will be deposited into your child�s account.',\n",
       "  0.746713399887085),\n",
       " ('What is a Child Development Account (CDA)?',\n",
       "  'The CDA* is a special savings account for children to help build up the savings that can be spent on approved uses.\\r\\n\\r\\nYour child�s CDA can be opened at any OCBC Bank, DBS Bank or UOB Bank branch.\\r\\n\\r\\nYou can deposit cash into the CDA any time until 31 December of the year your child turns 12 years of age.\\r\\n\\r\\nFor more information on CDA, please visit www.babybonus.msf.gov.sg or ask our friendly consultants today!\\r\\n\\r\\n*A child is eligible to apply for a CDA if he/she is:\\r\\n\\r\\nBorn on or after 17 August 2008\\r\\nA Singaporean citizen (or becomes a citizen before the age of 12)\\r\\nThe parents are legally married',\n",
       "  0.7170568108558655),\n",
       " ('What is CDA First Step Grant?',\n",
       "  'The CDA First Step Grant is new grant of $3,000 for eligible Singaporean children born from 24 March 2016. It is paid into the child�s CDA and forms part of the existing overall Government contribution cap.\\r\\n\\r\\nSingaporean children born from 24 March 2016 who are Singaporean Citizens (or become a citizen before turning 12 years old) and have lawfully married parents, are eligible for the CDA benefits.',\n",
       "  0.701927900314331)]"
      ]
     },
     "execution_count": 13,
     "metadata": {},
     "output_type": "execute_result"
    }
   ],
   "source": [
    "search(\"qu'est-ce que le CDA et comment ça marche ?\")"
   ]
  },
  {
   "cell_type": "markdown",
   "id": "9b9b482f",
   "metadata": {},
   "source": [
    "### Testing the models's capabilities with Chinese language"
   ]
  },
  {
   "cell_type": "code",
   "execution_count": 14,
   "id": "77b3a91b",
   "metadata": {},
   "outputs": [
    {
     "data": {
      "text/plain": [
       "[('How does the Child Development Account (CDA) work?',\n",
       "  'The CDA has two components: the CDA First Step Grant and the Government Dollar-for-Dollar Matching.\\r\\n\\r\\nUnder the CDA First Step Grant, parents will receive an initial amount of $3,000 (from the Government�s existing contribution caps) which will be deposited into your child�s account.',\n",
       "  0.735127866268158),\n",
       " ('What is a Child Development Account (CDA)?',\n",
       "  'The CDA* is a special savings account for children to help build up the savings that can be spent on approved uses.\\r\\n\\r\\nYour child�s CDA can be opened at any OCBC Bank, DBS Bank or UOB Bank branch.\\r\\n\\r\\nYou can deposit cash into the CDA any time until 31 December of the year your child turns 12 years of age.\\r\\n\\r\\nFor more information on CDA, please visit www.babybonus.msf.gov.sg or ask our friendly consultants today!\\r\\n\\r\\n*A child is eligible to apply for a CDA if he/she is:\\r\\n\\r\\nBorn on or after 17 August 2008\\r\\nA Singaporean citizen (or becomes a citizen before the age of 12)\\r\\nThe parents are legally married',\n",
       "  0.7249621152877808),\n",
       " ('What is CDA First Step Grant?',\n",
       "  'The CDA First Step Grant is new grant of $3,000 for eligible Singaporean children born from 24 March 2016. It is paid into the child�s CDA and forms part of the existing overall Government contribution cap.\\r\\n\\r\\nSingaporean children born from 24 March 2016 who are Singaporean Citizens (or become a citizen before turning 12 years old) and have lawfully married parents, are eligible for the CDA benefits.',\n",
       "  0.6922604441642761)]"
      ]
     },
     "execution_count": 14,
     "metadata": {},
     "output_type": "execute_result"
    }
   ],
   "source": [
    "search(\"什麼是 CDA 以及它是如何運作的？\")"
   ]
  },
  {
   "cell_type": "code",
   "execution_count": 15,
   "id": "bb590db1",
   "metadata": {},
   "outputs": [
    {
     "data": {
      "text/plain": [
       "[(\"How is my baby's cord blood stored?\",\n",
       "  \"Your baby's umbilical cord blood is stored within a US FDA-approved cryogenic storage pouch made of a special material that is specifically designed to withstand cryogenic temperatures. The pouch has two main segments (20% and 80%) that are attached integrally, and two test segments that are also integrally attached. The integral segments allow for additional testing on the associated unit to ensure that no samples are mixed up and that the cord blood remains viable. These tests are typically performed prior to a transplant. Having dual integrated segments addresses the possibility of future stem cell expansion. This means that when stem cell expansion is available commercially, you will be able to withdraw a portion of the stem cells for expansion while keeping the remainder in storage.\",\n",
       "  0.8103278279304504),\n",
       " (\"How is my baby's umbilical cord blood collected by my OBGYN?\",\n",
       "  'Immediately after the delivery of your baby, your child�s umbilical cord will be clamped and cut, and your child will be moved to the birthing area. The doctor then collects the umbilical cord blood by inserting a needle into the umbilical vein, draining the cord blood into a blood bag.\\r\\n\\r\\nThis procedure is non-invasive in nature, and is both painless and risk-free to mother and child. The process takes about 3 minutes and does not alter the birthing process in any way. It can be done with either a vaginal or caesarean delivery.\\r\\n\\r\\nPlease note that the final decision of whether the cord blood collection should take place will always reside with your OBGYN or Doctor whose first priority is to ensure the safety of you and your baby.',\n",
       "  0.7636420130729675),\n",
       " (\"What happens after my baby's umbilical cord blood has been collected?\",\n",
       "  \"After the collection of your baby�s umbilical cord blood, a round-the-clock medical courier will collect and deliver your baby�s cord blood unit to Cordlife�s stem cell processing and storage laboratory within 24 hours.\\r\\nUpon receipt of your baby�s cord blood unit, a Cordlife laboratory technician will start to isolate the stem cells � a critical step in cord blood banking � which will determine the number of stem cells that can be harvested or recovered from the cord blood.\\r\\nCell recovery rates are critical because a higher number of stem cells could enhance the success of cord blood transplantation or treatment. That's why Cordlife invests in the advanced AXP� II system to harvest maximum stem cells for improved transplant or treatment outcomes.\\r\\nThe AXP� II system is a U.S. FDA-cleared device that is capable of recovering more than 97% of viable CD34+ stem cells, higher than other available processing systems.3 This safe, sterile and automated cord blood processing system also helps to ensure your baby�s cord blood is processed with highly precise, reliable, and state-of-the-art technology, hence eliminating any possible cross-contamination of the cord blood unit.\\r\\nOnce the stem cells have been isolated and stored in our connecting dual compartment cryobag, it is placed into a fully programmable and automated cryoprotectant infuser that allows for the consistent preparation of stem cells for cryopreservation. Unlike other devices that require manual handling, the infuser has high precision and is able to inject 0.5ml of cryoprotectant per minute at a constant flow rate and pre-defined temperature.\\r\\nAdvanced microstepping techniques are also employed to eliminate flow pulsation. Any deviation from this process may affect cell viability and potency. Therefore, automation with superior noise isolation and anti-vibration features helps to ensure that the cryoprotectant is homogeneously mixed with the cells to protect their viability and potency during cryopreservation.\\r\\n3 Rubinstein P. Cord blood banking for clinical transplantation. Bone Marrow Transplantation. 2009;44(10):635-642. doi:10.1038/bmt.2009.281.\",\n",
       "  0.734096884727478)]"
      ]
     },
     "execution_count": 15,
     "metadata": {},
     "output_type": "execute_result"
    }
   ],
   "source": [
    "search(\"我為什麼要儲存寶寶的臍帶血？\")"
   ]
  },
  {
   "cell_type": "markdown",
   "id": "94f37d06",
   "metadata": {},
   "source": [
    "### Testing the models's capabilities with Malay language"
   ]
  },
  {
   "cell_type": "code",
   "execution_count": 16,
   "id": "f269d296",
   "metadata": {},
   "outputs": [
    {
     "data": {
      "text/plain": [
       "[(\"How is my baby's cord blood stored?\",\n",
       "  \"Your baby's umbilical cord blood is stored within a US FDA-approved cryogenic storage pouch made of a special material that is specifically designed to withstand cryogenic temperatures. The pouch has two main segments (20% and 80%) that are attached integrally, and two test segments that are also integrally attached. The integral segments allow for additional testing on the associated unit to ensure that no samples are mixed up and that the cord blood remains viable. These tests are typically performed prior to a transplant. Having dual integrated segments addresses the possibility of future stem cell expansion. This means that when stem cell expansion is available commercially, you will be able to withdraw a portion of the stem cells for expansion while keeping the remainder in storage.\",\n",
       "  0.8031582236289978),\n",
       " (\"Why should I save my baby's cord blood stem cells?\",\n",
       "  'There are several advantages of storing your baby�s cord blood stem cells, such as:\\r\\n\\r\\nA guaranteed match for autologous transplants (where the donor and recipient are the same individual)\\r\\nHaving a readily available supply of stored Haematopoietic Stem Cells (HSCs) as opposed to conducting a national or international search, which can be costly and time-consuming during a time-critical situation\\r\\nLower risk of Graft vs. Host Disease (GvHD) for autologous transplants, a situation where the transplanted tissue attacks the patient�s own tissue\\r\\nNon-invasive collection procedure which is pain-free and risk-free to both mother and child\\r\\nCord blood stem cells are younger, have a higher rate of engraftment and are more tolerant to tissue mismatches, compared to other sources of stem cells, e.g. bone marrow',\n",
       "  0.7279649972915649),\n",
       " (\"How is my baby's umbilical cord blood collected by my OBGYN?\",\n",
       "  'Immediately after the delivery of your baby, your child�s umbilical cord will be clamped and cut, and your child will be moved to the birthing area. The doctor then collects the umbilical cord blood by inserting a needle into the umbilical vein, draining the cord blood into a blood bag.\\r\\n\\r\\nThis procedure is non-invasive in nature, and is both painless and risk-free to mother and child. The process takes about 3 minutes and does not alter the birthing process in any way. It can be done with either a vaginal or caesarean delivery.\\r\\n\\r\\nPlease note that the final decision of whether the cord blood collection should take place will always reside with your OBGYN or Doctor whose first priority is to ensure the safety of you and your baby.',\n",
       "  0.7220237255096436)]"
      ]
     },
     "execution_count": 16,
     "metadata": {},
     "output_type": "execute_result"
    }
   ],
   "source": [
    "search(\"kenapa saya perlu menyimpan darah tali pusat bayi saya?\")"
   ]
  },
  {
   "cell_type": "markdown",
   "id": "933d1b50",
   "metadata": {},
   "source": [
    "### Testing the models's capabilities with Indonesian language"
   ]
  },
  {
   "cell_type": "code",
   "execution_count": 17,
   "id": "024b0be6",
   "metadata": {},
   "outputs": [
    {
     "data": {
      "text/plain": [
       "[(\"How is my baby's cord blood stored?\",\n",
       "  \"Your baby's umbilical cord blood is stored within a US FDA-approved cryogenic storage pouch made of a special material that is specifically designed to withstand cryogenic temperatures. The pouch has two main segments (20% and 80%) that are attached integrally, and two test segments that are also integrally attached. The integral segments allow for additional testing on the associated unit to ensure that no samples are mixed up and that the cord blood remains viable. These tests are typically performed prior to a transplant. Having dual integrated segments addresses the possibility of future stem cell expansion. This means that when stem cell expansion is available commercially, you will be able to withdraw a portion of the stem cells for expansion while keeping the remainder in storage.\",\n",
       "  0.8019660711288452),\n",
       " (\"Why should I save my baby's cord blood stem cells?\",\n",
       "  'There are several advantages of storing your baby�s cord blood stem cells, such as:\\r\\n\\r\\nA guaranteed match for autologous transplants (where the donor and recipient are the same individual)\\r\\nHaving a readily available supply of stored Haematopoietic Stem Cells (HSCs) as opposed to conducting a national or international search, which can be costly and time-consuming during a time-critical situation\\r\\nLower risk of Graft vs. Host Disease (GvHD) for autologous transplants, a situation where the transplanted tissue attacks the patient�s own tissue\\r\\nNon-invasive collection procedure which is pain-free and risk-free to both mother and child\\r\\nCord blood stem cells are younger, have a higher rate of engraftment and are more tolerant to tissue mismatches, compared to other sources of stem cells, e.g. bone marrow',\n",
       "  0.7278709411621094),\n",
       " (\"How is my baby's umbilical cord blood collected by my OBGYN?\",\n",
       "  'Immediately after the delivery of your baby, your child�s umbilical cord will be clamped and cut, and your child will be moved to the birthing area. The doctor then collects the umbilical cord blood by inserting a needle into the umbilical vein, draining the cord blood into a blood bag.\\r\\n\\r\\nThis procedure is non-invasive in nature, and is both painless and risk-free to mother and child. The process takes about 3 minutes and does not alter the birthing process in any way. It can be done with either a vaginal or caesarean delivery.\\r\\n\\r\\nPlease note that the final decision of whether the cord blood collection should take place will always reside with your OBGYN or Doctor whose first priority is to ensure the safety of you and your baby.',\n",
       "  0.7190601229667664)]"
      ]
     },
     "execution_count": 17,
     "metadata": {},
     "output_type": "execute_result"
    }
   ],
   "source": [
    "search(\"kenapa saya harus menyimpan darah tali pusat bayi saya?\")"
   ]
  },
  {
   "cell_type": "code",
   "execution_count": 20,
   "id": "53674e94",
   "metadata": {},
   "outputs": [
    {
     "data": {
      "text/plain": [
       "[('Is it safe to have cord blood, cord lining and cord tissue collected during this pandemic?',\n",
       "  'As cord blood will be collected by your caregiver immediately after the delivery of your baby, the collection of cord blood, cord lining, and cord tissue remains safe even during this pandemic period.\\r\\n\\r\\nEmerging evidence is now suggesting that the risk of direct transmission at the point of delivery is low, and there was no detection of the COVID-19 virus strain within the maternal and neonatal samples that can be transmitted to the umbilical cord blood and cord tissue.9\\r\\n\\r\\nIn most, if not all, cases of COVID-19 human-to-human transmission globally, the virus is spread mainly through close interaction with an infected person, where respiratory secretions can enter the eyes, mouth, nose, or airways, and via the touching of a surface or an object that is contaminated with the respiratory droplets.10\\r\\n\\r\\nCordlife is listed as an essential service provider during this pandemic. Our laboratory operations remain unaffected, and we will adhere to the most stringent protocols to ensure that your baby�s cord blood, cord lining and cord tissue are safely collected, processed, and cryopreserved.',\n",
       "  0.7142410278320312),\n",
       " ('If I (the biological mother) dies during childbirth and cord blood has been collected, will my husband be eligible for Cordlife Protect:360�?',\n",
       "  'Yes, as long as all required documents have been signed, your husband will be covered under Cordlife Protect:360�.',\n",
       "  0.5744138360023499),\n",
       " (\"What happens after my baby's umbilical cord blood has been collected?\",\n",
       "  \"After the collection of your baby�s umbilical cord blood, a round-the-clock medical courier will collect and deliver your baby�s cord blood unit to Cordlife�s stem cell processing and storage laboratory within 24 hours.\\r\\nUpon receipt of your baby�s cord blood unit, a Cordlife laboratory technician will start to isolate the stem cells � a critical step in cord blood banking � which will determine the number of stem cells that can be harvested or recovered from the cord blood.\\r\\nCell recovery rates are critical because a higher number of stem cells could enhance the success of cord blood transplantation or treatment. That's why Cordlife invests in the advanced AXP� II system to harvest maximum stem cells for improved transplant or treatment outcomes.\\r\\nThe AXP� II system is a U.S. FDA-cleared device that is capable of recovering more than 97% of viable CD34+ stem cells, higher than other available processing systems.3 This safe, sterile and automated cord blood processing system also helps to ensure your baby�s cord blood is processed with highly precise, reliable, and state-of-the-art technology, hence eliminating any possible cross-contamination of the cord blood unit.\\r\\nOnce the stem cells have been isolated and stored in our connecting dual compartment cryobag, it is placed into a fully programmable and automated cryoprotectant infuser that allows for the consistent preparation of stem cells for cryopreservation. Unlike other devices that require manual handling, the infuser has high precision and is able to inject 0.5ml of cryoprotectant per minute at a constant flow rate and pre-defined temperature.\\r\\nAdvanced microstepping techniques are also employed to eliminate flow pulsation. Any deviation from this process may affect cell viability and potency. Therefore, automation with superior noise isolation and anti-vibration features helps to ensure that the cryoprotectant is homogeneously mixed with the cells to protect their viability and potency during cryopreservation.\\r\\n3 Rubinstein P. Cord blood banking for clinical transplantation. Bone Marrow Transplantation. 2009;44(10):635-642. doi:10.1038/bmt.2009.281.\",\n",
       "  0.5456916093826294)]"
      ]
     },
     "execution_count": 20,
     "metadata": {},
     "output_type": "execute_result"
    }
   ],
   "source": [
    "search(\"疫情期間提取臍帶血安全嗎？\")"
   ]
  }
 ],
 "metadata": {
  "kernelspec": {
   "display_name": "Python 3 (ipykernel)",
   "language": "python",
   "name": "python3"
  },
  "language_info": {
   "codemirror_mode": {
    "name": "ipython",
    "version": 3
   },
   "file_extension": ".py",
   "mimetype": "text/x-python",
   "name": "python",
   "nbconvert_exporter": "python",
   "pygments_lexer": "ipython3",
   "version": "3.8.18"
  }
 },
 "nbformat": 4,
 "nbformat_minor": 5
}
