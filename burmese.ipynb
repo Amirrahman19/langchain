{
 "cells": [
  {
   "cell_type": "code",
   "execution_count": 4,
   "metadata": {},
   "outputs": [
    {
     "name": "stderr",
     "output_type": "stream",
     "text": [
      "generation_config.json: 100%|██████████| 233/233 [00:00<00:00, 46.6kB/s]\n"
     ]
    },
    {
     "name": "stdout",
     "output_type": "stream",
     "text": [
      "Input tokens: tensor([[128022,   4139,   8571,  10290,  15460,  10289,  18709,  18412,  15146,\n",
      "          10601,  18202,     24,      2]])\n",
      "Burmese to English: Қандай? – Қандай?\n",
      "BLEU score: 0.0\n"
     ]
    }
   ],
   "source": [
    "from transformers import M2M100ForConditionalGeneration, M2M100Tokenizer\n",
    "import sacrebleu\n",
    "\n",
    "# Load tokenizer and model for Burmese to English translation\n",
    "tokenizer = M2M100Tokenizer.from_pretrained(\"facebook/m2m100_418M\")\n",
    "model = M2M100ForConditionalGeneration.from_pretrained(\"facebook/m2m100_418M\")\n",
    "\n",
    "# Define a function to translate text from Burmese to English\n",
    "def translate_my_to_en(text):\n",
    "    inputs = tokenizer(text, return_tensors=\"pt\", padding=True, truncation=True, max_length=512)\n",
    "    print(\"Input tokens:\", inputs[\"input_ids\"])\n",
    "    outputs = model.generate(**inputs)\n",
    "    translated_text = tokenizer.decode(outputs[0], skip_special_tokens=True)\n",
    "    return translated_text\n",
    "\n",
    "# Test the translation function\n",
    "burmese_text = \"မင်္ဂလာပါ။ ဘယ်လိုလဲ?\"\n",
    "translated_english = translate_my_to_en(burmese_text)\n",
    "print(\"Burmese to English:\", translated_english)\n",
    "\n",
    "# Evaluate the translation quality using BLEU score\n",
    "reference = [\"Hello, how are you?\"]\n",
    "candidate = translated_english\n",
    "bleu_score = sacrebleu.corpus_bleu(candidate, [reference])\n",
    "print(\"BLEU score:\", bleu_score.score)\n"
   ]
  },
  {
   "cell_type": "code",
   "execution_count": 6,
   "metadata": {},
   "outputs": [
    {
     "name": "stdout",
     "output_type": "stream",
     "text": [
      "Burmese to English: ഷീൽഡ്\n"
     ]
    }
   ],
   "source": [
    "from transformers import MarianMTModel, MarianTokenizer\n",
    "import sacrebleu\n",
    "\n",
    "# Load tokenizer and model for Burmese to English translation\n",
    "model_name = \"Helsinki-NLP/opus-mt-my-en\"\n",
    "tokenizer = MarianTokenizer.from_pretrained(model_name)\n",
    "model = MarianMTModel.from_pretrained(model_name)\n",
    "\n",
    "# Define a function to translate text from Burmese to English\n",
    "def translate_my_to_en(text):\n",
    "    inputs = tokenizer(text, return_tensors=\"pt\", padding=True, truncation=True, max_length=512)\n",
    "    outputs = model.generate(**inputs)\n",
    "    translated_text = tokenizer.decode(outputs[0], skip_special_tokens=True)\n",
    "    return translated_text\n",
    "\n",
    "# Test the translation function\n",
    "burmese_text = \"ဟယ်လို့ရပါတယ်။\"\n",
    "translated_english = translate_my_to_en(burmese_text)\n",
    "print(\"Burmese to English:\", translated_english)\n"
   ]
  },
  {
   "cell_type": "code",
   "execution_count": 20,
   "metadata": {},
   "outputs": [
    {
     "name": "stderr",
     "output_type": "stream",
     "text": [
      "[nltk_data] Downloading package punkt to\n",
      "[nltk_data]     C:\\Users\\amir.rahman\\AppData\\Roaming\\nltk_data...\n",
      "[nltk_data]   Package punkt is already up-to-date!\n",
      "[nltk_data] Downloading package stopwords to\n",
      "[nltk_data]     C:\\Users\\amir.rahman\\AppData\\Roaming\\nltk_data...\n",
      "[nltk_data]   Package stopwords is already up-to-date!\n"
     ]
    },
    {
     "name": "stdout",
     "output_type": "stream",
     "text": [
      "Burmese Text: မင်းနာမည်က ဘာလဲ၊ မင်းအသက်ဘယ်လောက်လဲ။\n",
      "Translated English Text: What is your name?how old are you?\n"
     ]
    }
   ],
   "source": [
    "import nltk\n",
    "from nltk.tokenize import word_tokenize\n",
    "from nltk.corpus import stopwords\n",
    "from googletrans import Translator\n",
    "import re\n",
    "\n",
    "# Download NLTK resources (only required once)\n",
    "nltk.download('punkt')\n",
    "nltk.download('stopwords')\n",
    "\n",
    "# Define preprocessing function\n",
    "def preprocess_text(text):\n",
    "    # Tokenize the text\n",
    "    tokens = word_tokenize(text)\n",
    "\n",
    "    # Remove stopwords\n",
    "    stop_words = set(stopwords.words('english'))\n",
    "    filtered_tokens = [word for word in tokens if word.lower() not in stop_words]\n",
    "\n",
    "    # Capitalize the first letter in each sentence\n",
    "    preprocessed_text = ' '.join([word.capitalize() if i == 0 or tokens[i - 1] in ['.', '!', '?'] else word for i, word in enumerate(filtered_tokens)])\n",
    "\n",
    "    return preprocessed_text\n",
    "\n",
    "# Define postprocessing function\n",
    "def postprocess_text(text):\n",
    "    # Capitalize the first letter of the entire text\n",
    "    postprocessed_text = text.capitalize()\n",
    "\n",
    "    return postprocessed_text\n",
    "\n",
    "# Define translation function\n",
    "def translate_my_to_en(text):\n",
    "    # Preprocess text\n",
    "    preprocessed_text = preprocess_text(text)\n",
    "\n",
    "    # Translate text from Burmese to English\n",
    "    translator = Translator()\n",
    "    translated_text = translator.translate(preprocessed_text, src='my', dest='en').text\n",
    "\n",
    "    # Postprocess translated text\n",
    "    postprocessed_text = postprocess_text(translated_text)\n",
    "\n",
    "    return postprocessed_text\n",
    "\n",
    "# Test the translation function with a sample Burmese text\n",
    "burmese_text = \"မင်းနာမည်က ဘာလဲ၊ မင်းအသက်ဘယ်လောက်လဲ။\"\n",
    "translated_english = translate_my_to_en(burmese_text)\n",
    "print(\"Burmese Text:\", burmese_text)\n",
    "print(\"Translated English Text:\", translated_english)\n"
   ]
  }
 ],
 "metadata": {
  "kernelspec": {
   "display_name": "Python 3",
   "language": "python",
   "name": "python3"
  },
  "language_info": {
   "codemirror_mode": {
    "name": "ipython",
    "version": 3
   },
   "file_extension": ".py",
   "mimetype": "text/x-python",
   "name": "python",
   "nbconvert_exporter": "python",
   "pygments_lexer": "ipython3",
   "version": "3.8.18"
  }
 },
 "nbformat": 4,
 "nbformat_minor": 2
}
